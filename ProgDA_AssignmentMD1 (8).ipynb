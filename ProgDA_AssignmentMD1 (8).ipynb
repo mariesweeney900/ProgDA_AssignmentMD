{
 "cells": [
  {
   "cell_type": "markdown",
   "metadata": {},
   "source": [
    "# Introduction\n",
    "The following notebook explains the use of the numpy package"
   ]
  },
  {
   "cell_type": "code",
   "execution_count": 9,
   "metadata": {},
   "outputs": [],
   "source": [
    "import numpy as np\n",
    "import pandas as pd\n",
    "import matplotlib.pyplot as plt\n",
    "import scipy.stats as stats\n",
    "import seaborn as sns"
   ]
  },
  {
   "cell_type": "markdown",
   "metadata": {},
   "source": [
    "# Purpose of Package\n",
    "The purpose of the NumPy Package is as a computing package within python that allows the use of multiple array objects, tools and functions. NumPy contains useful algebra, code and generates random numbers."
   ]
  },
  {
   "cell_type": "markdown",
   "metadata": {},
   "source": [
    "# Simple Random Data and Permutations\n",
    "\n",
    "The functions included in the simple random data include rand, randn, randint,sample and choice.\n",
    "Th functions included in permutations include permutations and shuffle.\n",
    "Simple random data and permutation function in NumPy forms a part of the random sampling function (numpy.random).\n",
    "Numpy’s random number function produces random numbers based on formations of a BitGenerator and arranges these. A generator uses these arrangements to fragment from different distributions."
   ]
  },
  {
   "cell_type": "code",
   "execution_count": 35,
   "metadata": {},
   "outputs": [
    {
     "data": {
      "text/plain": [
       "array([[[0.63163236, 0.74107316, 0.74842803],\n",
       "        [0.53039758, 0.93102329, 0.70438195]]])"
      ]
     },
     "execution_count": 35,
     "metadata": {},
     "output_type": "execute_result"
    }
   ],
   "source": [
    "#generates an array of random numbers, two rows and three columns are produced and the numbers share an equal probablity of being chosen\n",
    "np.random.rand(1, 2, 3)"
   ]
  },
  {
   "cell_type": "code",
   "execution_count": 36,
   "metadata": {},
   "outputs": [
    {
     "data": {
      "text/plain": [
       "0.12198177932164066"
      ]
     },
     "execution_count": 36,
     "metadata": {},
     "output_type": "execute_result"
    }
   ],
   "source": [
    "#generates a random number, each number share an equal probablity of being chosen\n",
    "np.random.randn()\n"
   ]
  },
  {
   "cell_type": "code",
   "execution_count": 12,
   "metadata": {},
   "outputs": [],
   "source": [
    "#Generate a 3 x 2 array of integers between and :, the randint function offers the option of a number being chosen more than once within the given range\n",
    "x = np.random.randint(50, size=(3,2))"
   ]
  },
  {
   "cell_type": "code",
   "execution_count": 13,
   "metadata": {},
   "outputs": [
    {
     "data": {
      "text/plain": [
       "array([ 1, 14, 22, 22, 20, 29, 19, 10, 21,  0,  5, 23, 10, 27,  7,  9, 11,\n",
       "       26, 20,  2,  4, 24,  4, 19, 22, 24,  5, 19, 22, 25, 19, 26, 15, 14,\n",
       "        3, 15, 14, 10, 11, 21,  1,  4,  8, 20, 24, 12, 27,  9,  8, 18])"
      ]
     },
     "execution_count": 13,
     "metadata": {},
     "output_type": "execute_result"
    }
   ],
   "source": [
    "# Produces a matrix of random integers in a specified range with given size\n",
    "np.random.randint(30, size=50)"
   ]
  },
  {
   "cell_type": "code",
   "execution_count": 14,
   "metadata": {},
   "outputs": [
    {
     "data": {
      "text/plain": [
       "array([[0.53454587, 0.31701347],\n",
       "       [0.27287881, 0.28627165],\n",
       "       [0.58891271, 0.92434629]])"
      ]
     },
     "execution_count": 14,
     "metadata": {},
     "output_type": "execute_result"
    }
   ],
   "source": [
    "#Generates a 3 x 2 array of random floats\n",
    "np.random.random_sample((3, 2))"
   ]
  },
  {
   "cell_type": "code",
   "execution_count": 15,
   "metadata": {},
   "outputs": [
    {
     "data": {
      "text/plain": [
       "array([14,  5, 13,  9, 17, 10,  1,  3,  0,  7, 15,  8, 11,  6,  2, 18, 19,\n",
       "        4, 12, 16])"
      ]
     },
     "execution_count": 15,
     "metadata": {},
     "output_type": "execute_result"
    }
   ],
   "source": [
    "#permutes a sequence\n",
    "np.random.permutation(20)"
   ]
  },
  {
   "cell_type": "code",
   "execution_count": 16,
   "metadata": {},
   "outputs": [
    {
     "data": {
      "text/plain": [
       "array([30, 13, 12, 11])"
      ]
     },
     "execution_count": 16,
     "metadata": {},
     "output_type": "execute_result"
    }
   ],
   "source": [
    "#returns a range\n",
    "np.random.permutation([13, 12, 11, 30])"
   ]
  },
  {
   "cell_type": "code",
   "execution_count": 17,
   "metadata": {},
   "outputs": [
    {
     "data": {
      "text/plain": [
       "array([[4, 5],\n",
       "       [2, 3],\n",
       "       [0, 1]])"
      ]
     },
     "execution_count": 17,
     "metadata": {},
     "output_type": "execute_result"
    }
   ],
   "source": [
    "#returns an array\n",
    "sort = np.arange(6).reshape((3, 2))\n",
    "np.random.permutation(sort)"
   ]
  },
  {
   "cell_type": "code",
   "execution_count": 39,
   "metadata": {},
   "outputs": [],
   "source": [
    "#Adapts an arrangment insitu by shuffling its properties. The array is shuffled along the first axis of an array. The order of the sub array is modified but properties remain the same.\n",
    "sort = np.arange(20)\n",
    "np.random.shuffle(sort)"
   ]
  },
  {
   "cell_type": "markdown",
   "metadata": {},
   "source": [
    "# Name five distributions within the numpy.random package\n",
    "\n",
    "# Chisquare(df[, size]) Elucidates samples from a chi-square distribution.\n",
    "\n",
    "When random variables in a dataframe, with normal distributions, are squared and summed, a chi-square analysis is distributed. This is useful in calculating hypotheses.\n",
    "\n",
    "# Logistic([loc, scale, size]) Elucidates samples from a logistic distribution.\n",
    "\n",
    "The logistic distribution is useful in Extreme Value Problems, such as maximum and minimum values to real world problems. It makes the assumption that the variable is logistically and randomly distributed.\n",
    "\n",
    "# Binomial\n",
    "\n",
    "# Uniform([low, high, size]) Elucidates samples from a uniform distribution.\n",
    "\n",
    "The chosen sample are uniformly distributed over the half open interval, i.e low and high. It incorporates low values but eliminates high. Any amount that falls within the choice interval is deemed of equal liklihood to be chosen by uniform.\n",
    "\n",
    "# Normal([loc, scale, size]) Elucidates random samples from a normal (Gaussian) distribution.\n",
    "\n",
    "The normal distribution represents the frequently presented distribution of samples each with a unique distribution occuring randomly, often in nature. A good example of the normal distribution is birthweights taken of newborns. Measured birthweights tend to fall into a natural bell curve. This bell curve demonstrates that babies tend to have an average weight more often than babies with a lighter weight.\n"
   ]
  },
  {
   "cell_type": "markdown",
   "metadata": {},
   "source": [
    "# The Normal Distribution\n",
    "\n",
    "The normal distribution represents the frequently presented distribution of samples each with a unique distribution occuring randomly, often in nature. A good example of the normal distribution is birthweights taken of newborns. Measured birthweights tend to fall into a natural bell curve. This bell curve demonstrates that babies tend to have an average weight more often than babies with a lighter weight.\n"
   ]
  },
  {
   "cell_type": "code",
   "execution_count": 65,
   "metadata": {},
   "outputs": [
    {
     "data": {
      "image/png": "[encoded data removed]",
      "text/plain": [
       "<Figure size 432x288 with 1 Axes>"
      ]
     },
     "metadata": {
      "needs_background": "light"
     },
     "output_type": "display_data"
    }
   ],
   "source": [
    "mean = 3.5\n",
    "sd = 0.6\n",
    "sample = np.random.normal(mean, sd, 1000)\n",
    "plt.plot(sample, stats.norm.pdf(sample, 3.5, 0.6))\n",
    "plt.show()"
   ]
  },
  {
   "cell_type": "code",
   "execution_count": 47,
   "metadata": {},
   "outputs": [],
   "source": [
    "# call on the function np.random.normal to generate a conclusion from the normal distribution with a mean of 0 and standard deviation of 1.\n",
    "x= np.random.normal()"
   ]
  },
  {
   "cell_type": "code",
   "execution_count": 51,
   "metadata": {},
   "outputs": [
    {
     "data": {
      "text/plain": [
       "array([-0.29854493])"
      ]
     },
     "execution_count": 51,
     "metadata": {},
     "output_type": "execute_result"
    }
   ],
   "source": [
    "# The following code works the same as the np.random.normal(1), values need to be identified for both loc and scale or they will revert to the values of loc = 0 and scale = 1. The loc parameter determines the mean of the distribution as one draws numbers with np.random.normal. One can transform the standard deviation by utilising the scale option. The size option of 1 will produce 1000 values  \n",
    "np.random.normal(size = 1, loc = 0, scale = 1)"
   ]
  },
  {
   "cell_type": "code",
   "execution_count": 46,
   "metadata": {},
   "outputs": [
    {
     "data": {
      "image/png": "[encoded data removed]",
      "text/plain": [
       "<Figure size 432x288 with 1 Axes>"
      ]
     },
     "metadata": {
      "needs_background": "light"
     },
     "output_type": "display_data"
    }
   ],
   "source": [
    "# call on the function np.random.normal to generate a conclusion from the normal distribution with a mean of 0 and standard deviation of 1.\n",
    "x= np.random.normal()\n",
    "x = range(100)\n",
    "y = np.random.uniform(3, 2, size=100)\n",
    "\n",
    "plt.scatter(x, y)\n",
    "plt.show()"
   ]
  },
  {
   "cell_type": "code",
   "execution_count": 25,
   "metadata": {},
   "outputs": [
    {
     "data": {
      "text/plain": [
       "8.980031220326453"
      ]
     },
     "execution_count": 25,
     "metadata": {},
     "output_type": "execute_result"
    }
   ],
   "source": [
    "#Draws 10 numbers from the normal distribution, the value 10 is passed as the size specification, we are specifying that we want to produce a NumPy array of 10 values, drawing from the normal distribution. Also, because we have not identified values for loc and scale, they will revert to loc = 0 and scale = 1.\n",
    "np.random.normal(10)"
   ]
  },
  {
   "cell_type": "code",
   "execution_count": 66,
   "metadata": {},
   "outputs": [
    {
     "data": {
      "text/plain": [
       "(array([ 1.,  6.,  8.,  8., 24., 20., 18., 12.,  2.,  1.]),\n",
       " array([-2.54581702, -2.03829213, -1.53076724, -1.02324235, -0.51571746,\n",
       "        -0.00819257,  0.49933232,  1.00685721,  1.5143821 ,  2.02190699,\n",
       "         2.52943188]),\n",
       " <a list of 10 Patch objects>)"
      ]
     },
     "execution_count": 66,
     "metadata": {},
     "output_type": "execute_result"
    },
    {
     "data": {
      "image/png": "[encoded data removed]",
      "text/plain": [
       "<Figure size 432x288 with 1 Axes>"
      ]
     },
     "metadata": {
      "needs_background": "light"
     },
     "output_type": "display_data"
    }
   ],
   "source": [
    "norm_data = np.random.normal(size = 100, loc = 0, scale = 1)\n",
    "plt.hist(norm_data)"
   ]
  },
  {
   "cell_type": "code",
   "execution_count": 26,
   "metadata": {},
   "outputs": [
    {
     "name": "stdout",
     "output_type": "stream",
     "text": [
      "[43.29718038 69.03953124 58.39188409 41.68239362 55.68577616 51.31014152\n",
      " 42.23589872 59.33705039 37.33889745 57.5125597 ]\n"
     ]
    }
   ],
   "source": [
    "#draws 10 numbers from the normal distribution, the value 10 is passed as the size specification, we are specifying that we want to produce a NumPy array of 10 values.   \n",
    "x = np.random.normal(50, 10, size=10)\n",
    "print(x)"
   ]
  },
  {
   "cell_type": "markdown",
   "metadata": {},
   "source": [
    "# The Uniform Distribution\n",
    "\n",
    "\n",
    "This is a form of probability distribution whereby all outcomes are equally likely, each variable has an equal possibility that it will be the outcome. For example, a coin toss offers the probability of getting either heads or tails in equal measure, thus the coin is a uniform distribution. https://www.investopedia.com/terms/u/uniform-distribution.asp"
   ]
  },
  {
   "cell_type": "code",
   "execution_count": 80,
   "metadata": {},
   "outputs": [
    {
     "data": {
      "text/plain": [
       "[Text(0, 0.5, 'Frequency'), Text(0.5, 0, 'Uniform Distribution ')]"
      ]
     },
     "execution_count": 80,
     "metadata": {},
     "output_type": "execute_result"
    },
    {
     "data": {
      "image/png": "[encoded data removed]",
      "text/plain": [
       "<Figure size 432x288 with 1 Axes>"
      ]
     },
     "metadata": {
      "needs_background": "light"
     },
     "output_type": "display_data"
    }
   ],
   "source": [
    "# import uniform   Adapted from https://www.datacamp.com/community/tutorials/probability-distributions-python\n",
    "from scipy.stats import uniform\n",
    "n = 1000\n",
    "s = 20\n",
    "w = 30\n",
    "data_uniform = uniform.rvs(size=n, loc = s, scale=w)\n",
    "a = sns.distplot(data_uniform,\n",
    "                  bins=50,\n",
    "                  kde=True,\n",
    "                  color='purple',\n",
    "                  hist_kws={\"linewidth\": 10,'alpha':1})\n",
    "a.set(xlabel='Uniform Distribution ', ylabel='Frequency')"
   ]
  },
  {
   "cell_type": "code",
   "execution_count": 20,
   "metadata": {},
   "outputs": [
    {
     "data": {
      "text/plain": [
       "2.4539627732328113"
      ]
     },
     "execution_count": 20,
     "metadata": {},
     "output_type": "execute_result"
    }
   ],
   "source": [
    "np.random.uniform(3,2)"
   ]
  },
  {
   "cell_type": "code",
   "execution_count": 19,
   "metadata": {},
   "outputs": [
    {
     "data": {
      "text/plain": [
       "0.06536359488919097"
      ]
     },
     "execution_count": 19,
     "metadata": {},
     "output_type": "execute_result"
    }
   ],
   "source": [
    "np.random.uniform()"
   ]
  },
  {
   "cell_type": "code",
   "execution_count": 40,
   "metadata": {},
   "outputs": [
    {
     "name": "stdout",
     "output_type": "stream",
     "text": [
      "[[2.16190954 2.0371887  2.44714112]\n",
      " [2.97062847 2.85671868 2.52806745]\n",
      " [2.31789129 2.31165711 2.27392919]]\n"
     ]
    },
    {
     "data": {
      "image/png": "[encoded data removed]",
      "text/plain": [
       "<Figure size 432x288 with 1 Axes>"
      ]
     },
     "metadata": {
      "needs_background": "light"
     },
     "output_type": "display_data"
    }
   ],
   "source": [
    "x = np.random.uniform(3, 2, size=(3, 3))\n",
    "print(x)\n",
    "x = range(100)\n",
    "y = np.random.uniform(3, 2, size=100)\n",
    "\n",
    "plt.scatter(x, y)\n",
    "plt.show()"
   ]
  },
  {
   "cell_type": "markdown",
   "metadata": {},
   "source": [
    "# The Binomial Distribution\n",
    "\n",
    "The probability distribution of a binomial random variable is referred to as a binomial distribution. When a coin is tossed twice and the number of tails is counted for success. The binomial random variable is the number of tails. The outcomes, however need not be equally probable, and each trial is independent of each other. Adapted from https://stattrek.com/probability-distributions/binomial.aspx"
   ]
  },
  {
   "cell_type": "code",
   "execution_count": 85,
   "metadata": {},
   "outputs": [
    {
     "data": {
      "text/plain": [
       "[Text(0, 0.5, 'Frequency'), Text(0.5, 0, 'Binomial Distribution')]"
      ]
     },
     "execution_count": 85,
     "metadata": {},
     "output_type": "execute_result"
    },
    {
     "data": {
      "image/png": "[encoded data removed]",
      "text/plain": [
       "<Figure size 432x288 with 1 Axes>"
      ]
     },
     "metadata": {
      "needs_background": "light"
     },
     "output_type": "display_data"
    }
   ],
   "source": [
    "#Adapted from https://www.datacamp.com/community/tutorials/probability-distributions-python\n",
    "\n",
    "from scipy.stats import binom\n",
    "d_binom = binom.rvs(n=20,p=0.8,size=2000)\n",
    "a = sns.distplot(d_binom,\n",
    "                  kde=False,\n",
    "                  color='pink',\n",
    "                  hist_kws={\"linewidth\": 20,'alpha':1})\n",
    "a.set(xlabel='Binomial Distribution', ylabel='Frequency')"
   ]
  },
  {
   "cell_type": "markdown",
   "metadata": {},
   "source": [
    "# The Logistic Distribution\n",
    "\n",
    "\n",
    "\n",
    "\n"
   ]
  },
  {
   "cell_type": "code",
   "execution_count": 27,
   "metadata": {
    "scrolled": true
   },
   "outputs": [
    {
     "data": {
      "image/png": "[encoded data removed]",
      "text/plain": [
       "<Figure size 432x288 with 1 Axes>"
      ]
     },
     "metadata": {
      "needs_background": "light"
     },
     "output_type": "display_data"
    }
   ],
   "source": [
    "loc, scale = 20, 2\n",
    "s = np.random.logistic(loc, scale, 2000)\n",
    "count, bins, ignored = plt.hist(s, bins=30)\n"
   ]
  },
  {
   "cell_type": "code",
   "execution_count": 29,
   "metadata": {
    "scrolled": true
   },
   "outputs": [
    {
     "data": {
      "text/plain": [
       "array([0.29005365, 0.73814122])"
      ]
     },
     "execution_count": 29,
     "metadata": {},
     "output_type": "execute_result"
    }
   ],
   "source": [
    "np.random.chisquare(3,2)\n"
   ]
  },
  {
   "cell_type": "markdown",
   "metadata": {},
   "source": [
    "# The use of seeds in generating pseudorandom numbers"
   ]
  },
  {
   "cell_type": "markdown",
   "metadata": {},
   "source": [
    "NumPy random seed is a function that places the seed randomly in the NumPy pseudo-random number generator. It provides an essential input in that it allows NumPy to produce pseudo-random numbers for processes requiring random selection.\n",
    "\n",
    "\n",
    "A pseudorandom number is a design for producing a sequence of numbers that closely resemble random numbers. The process is not authentically random, as it is derived from an original value, known as the seed, which can involve random values.\n",
    "\n",
    "The numbers reproduced by a pseudorandom generator appear to be random, however, the numbers are completely determined by the algorithm, when you investigate them, there is no identifiable pattern. They are not random and if one runs the code once more the same numbers result. \n"
   ]
  },
  {
   "cell_type": "code",
   "execution_count": 30,
   "metadata": {},
   "outputs": [
    {
     "data": {
      "text/plain": [
       "array([[-1.56035211, -0.0309776 ],\n",
       "       [-0.62092842, -1.46458049],\n",
       "       [ 1.41194612, -0.47673214]])"
      ]
     },
     "execution_count": 30,
     "metadata": {},
     "output_type": "execute_result"
    }
   ],
   "source": [
    "#creates a 2 dimensional numpy array of normally distributed values with 2 rows and 3 columns, to to the size paramenter\n",
    "np.random.seed(50)\n",
    "np.random.normal(size = (3, 2))\n"
   ]
  },
  {
   "cell_type": "code",
   "execution_count": 31,
   "metadata": {},
   "outputs": [
    {
     "data": {
      "text/plain": [
       "array([12, 15,  0,  3,  3,  7,  9, 19, 18,  4])"
      ]
     },
     "execution_count": 31,
     "metadata": {},
     "output_type": "execute_result"
    }
   ],
   "source": [
    "# Produces a list of 10 pseudorandom integers between 0 and 19 utilising numpy.random.randint.\n",
    "np.random.seed(0)\n",
    "np.random.randint(20, size = 10)"
   ]
  },
  {
   "cell_type": "code",
   "execution_count": 32,
   "metadata": {},
   "outputs": [
    {
     "data": {
      "text/plain": [
       "0.5488135039273248"
      ]
     },
     "execution_count": 32,
     "metadata": {},
     "output_type": "execute_result"
    }
   ],
   "source": [
    "# Utilises NumPy to produce a random number between zero and one using the NumPy random random function.\n",
    "np.random.seed(0)\n",
    "np.random.random()"
   ]
  },
  {
   "cell_type": "code",
   "execution_count": 34,
   "metadata": {},
   "outputs": [
    {
     "data": {
      "text/plain": [
       "array([13,  1,  6, 10, 15])"
      ]
     },
     "execution_count": 34,
     "metadata": {},
     "output_type": "execute_result"
    }
   ],
   "source": [
    "# Utilise np.random.seed to prefix the number generator in advance of using NumPy random randint 5 random integers between 0 and 99 is produced using numpy.\n",
    "np.random.seed(60)\n",
    "np.random.randint(low = 0, high = 50, size = 5)"
   ]
  },
  {
   "cell_type": "markdown",
   "metadata": {},
   "source": [
    "# References\n",
    "\n",
    "https://numpy.org/\n",
    "\n",
    "https://docs.scipy.org/doc/numpy-1.14.0/reference/routines.random.html\n",
    "\n",
    "https://realpython.com/python-random/\n",
    "\n",
    "https://docs.scipy.org/doc/numpy-1.14.1/reference/routines.random.html\n",
    "\n",
    "https://docs.scipy.org/doc/numpy-1.16.1/reference/generated/numpy.random.logistic.html\n",
    "\n",
    "https://en.wikipedia.org/wiki/Pseudorandom_number_generator\n",
    "\n",
    "https://www.codespeedy.com/how-to-create-matrix-of-random-numbers-in-python-numpy/\n",
    "\n",
    "https://www.sharpsightlabs.com/blog/numpy-random-normal/\n",
    "\n",
    "https://en.m.wikipedia.org›wiki›Seed\n",
    "\n",
    "https://www.sharpsightlabs.com/blog/numpy-random-seed/\n",
    "\n",
    "https://www.datacamp.com/community/tutorials/probability-distributions-python\n"
   ]
  },
  {
   "cell_type": "code",
   "execution_count": null,
   "metadata": {},
   "outputs": [],
   "source": []
  }
 ],
 "metadata": {
  "kernelspec": {
   "display_name": "Python 3",
   "language": "python",
   "name": "python3"
  },
  "language_info": {
   "codemirror_mode": {
    "name": "ipython",
    "version": 3
   },
   "file_extension": ".py",
   "mimetype": "text/x-python",
   "name": "python",
   "nbconvert_exporter": "python",
   "pygments_lexer": "ipython3",
   "version": "3.7.3"
  }
 },
 "nbformat": 4,
 "nbformat_minor": 2
}
